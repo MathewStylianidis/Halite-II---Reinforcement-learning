{
 "cells": [
  {
   "cell_type": "code",
   "execution_count": 92,
   "metadata": {},
   "outputs": [],
   "source": [
    "import zstd\n",
    "import os\n",
    "import sys\n",
    "import json\n",
    "import warnings\n",
    "import numpy as np\n",
    "from tqdm import tqdm\n",
    "from random import shuffle"
   ]
  },
  {
   "cell_type": "code",
   "execution_count": 35,
   "metadata": {},
   "outputs": [],
   "source": [
    "warnings.filterwarnings('ignore')"
   ]
  },
  {
   "cell_type": "code",
   "execution_count": 36,
   "metadata": {},
   "outputs": [],
   "source": [
    "replay_dir = '../Replays/'"
   ]
  },
  {
   "cell_type": "code",
   "execution_count": 86,
   "metadata": {},
   "outputs": [],
   "source": [
    "# CONSTANTS\n",
    "SHIPS_PER_TEAM = 30\n",
    "MAX_PLANETS = 15\n",
    "AVG_TOTAL_PLANETS = 13\n",
    "#AVG_MAP_SIZE_X = 48 #(384 - 288) / 2\n",
    "#AVG_MAP_SIZE_Y = #"
   ]
  },
  {
   "cell_type": "code",
   "execution_count": 94,
   "metadata": {},
   "outputs": [
    {
     "data": {
      "text/plain": [
       "3.141592653589793"
      ]
     },
     "execution_count": 94,
     "metadata": {},
     "output_type": "execute_result"
    }
   ],
   "source": [
    "np.pi"
   ]
  },
  {
   "cell_type": "code",
   "execution_count": 87,
   "metadata": {},
   "outputs": [],
   "source": [
    "class CyclicalList:\n",
    "    \"\"\"\n",
    "    ReplayManager\n",
    "    \"\"\"\n",
    "    \n",
    "    \n",
    "\n",
    "\n",
    "    def __init__(self, std_list):\n",
    "        self.idx = 0\n",
    "        self.len = len(std_list)\n",
    "        self.list = std_list\n",
    "        # Init constants\n",
    "        self.SHIPS_PER_TEAM = 30.0\n",
    "        self.MAX_PLANETS = 14.0\n",
    "        self.MIN_PLANETS = 12.0\n",
    "        self.AVG_TOTAL_PLANETS = 13.0\n",
    "        self.MAX_SHIP_HEALTH = 255.0\n",
    "        self.MAX_VELOCITY = 7.0\n",
    "        \n",
    "        \n",
    "    def getNext(self, shuffle = False):\n",
    "        self.idx = (self.idx + 1) % self.len\n",
    "        if shuffle and self.idx == 0:\n",
    "            shuffle(self.list)\n",
    "        return self.list[self.idx]\n",
    "    \n",
    "    def getReplaysWithSamples(min_samples):\n",
    "        \"\"\"\n",
    "        Iterates the buffer and gets the next replays\n",
    "        that have at least min_samples overall.\n",
    "        \"\"\"\n",
    "        cur_samples = 0\n",
    "        replays = []\n",
    "        for i in range(self.len):\n",
    "            file_name = self.getNext(shuffle = True)\n",
    "            replay = self.getReplayContent(file_name)\n",
    "            replays.append(replay)\n",
    "            cur_samples += replay['num_frames']\n",
    "            if(cur_samples > min_samples):\n",
    "                break\n",
    "        return replays\n",
    "    \n",
    "    #def sampleFrames(self, replay_list, )\n",
    "    \n",
    "    def getReplayContent(self, file_name):\n",
    "        with open(replay_dir + file_name, \"rb\") as rpfile:    \n",
    "            decoded_data = zstd.decompress((rpfile.read())).decode('utf-8')\n",
    "            replay_json = json.loads(decoded_data.strip())\n",
    "            return replay_json\n",
    "        \n",
    "    def createFeatureVector(self, frame, timestep, map_width, map_height, planets, ship_id):\n",
    "        # Pre-allocate matrix  \n",
    "        feature_vector = np.array((6, 1))\n",
    "        \n",
    "        # Store team sizes\n",
    "        our_team_size, their_team_size = self.getTeamSize(frame, ship_id)\n",
    "        feature_vector[0] = our_team_size\n",
    "        feature_vector[1] = float(our_team_size) / their_team_size\n",
    "        \n",
    "        # Store percentage of planets per team\n",
    "        total_planets_norm, planet_balance, neutral_fraction = self.getPlanetPercentages(frame, ship_id)\n",
    "        feature_vector[2] = total_planets_norm\n",
    "        feature_vector[3] = planet_balance\n",
    "        feature_vector[4] = neutral_fraction\n",
    "        \n",
    "        # Store timestep\n",
    "        feature_vector[5] = timestep\n",
    "        \n",
    "        # Store our ship features\n",
    "        magnitude, health, distance, docking_one_hot = self.getShipFeatures(frame, ship_id, map_width, map_height)\n",
    "        \n",
    "        # Store allied ship features\n",
    "        \n",
    "        # Store enemy ship features\n",
    "    \n",
    "    def getShipFeatures(self, frame, ship_id, map_width, map_height):\n",
    "        \"\"\"\n",
    "        Get features for our own ship.\n",
    "        \"\"\"\n",
    "        ships = frame['ships']\n",
    "        our_team_id = self.getShipOwner(ships, ship_id)\n",
    "        ship_info = ships[our_team_id][ship_id]\n",
    "        \n",
    "        vel_magnitude = np.sqrt(ship_info['vel_x'] ** 2 + ship_info['vel_y'] ** 2) \n",
    "        vel_magnitude_norm = (vel_magnitude - self.MAX_VELOCITY / 2) / self.MAX_VELOCITY\n",
    "        health = (ship_info['health'] - MAX_SHIP_HEALTH / 2) / MAX_SHIP_HEALTH\n",
    "        docking_one_hot = [1,0] if ship_info['docking']['status'] == 'undocked' else [0, 1]\n",
    "        \n",
    "        x_coord = ship_info['x']\n",
    "        y_coord = ship_info['y']\n",
    "        \n",
    "        angle = np.arctan2(ship_info['vel_y'], ship_info['vel_x'])\n",
    "        \n",
    "        if x_coord < map_width / 2:\n",
    "            # Left side\n",
    "            dist = x_coord\n",
    "            angle_to_side_hor = np.pi - angle\n",
    "        else:\n",
    "            # Right side\n",
    "            dist \n",
    "            angle_to_side_hor = angle\n",
    "        \n",
    "        if y_coord < map_height / 2:\n",
    "            # Top side\n",
    "            angle_to_side_vert = np.pi/2\n",
    "        else:\n",
    "            # Bottom side\n",
    "            angle_to_side_vert = -np.pi/2\n",
    "        \n",
    "        \n",
    "    \n",
    "    def getShipOwner(self, ships, ship_id):\n",
    "        \"\"\"\n",
    "        Get index of ship owner\n",
    "        \"\"\"\n",
    "        if ship_id in ships['0'].keys():\n",
    "            our_team = '0'\n",
    "        else:\n",
    "            our_team = '1'\n",
    "        return our_team\n",
    "    \n",
    "    def getTeamsSize(self, frame, ship_id):\n",
    "        \"\"\"\n",
    "        Get tuple of size for both teams\n",
    "        \"\"\"\n",
    "        ships = frame['ships']\n",
    "        our_team_id = self.getShipOwner(ships, ship_id)\n",
    "        their_team_id = '1' if our_team_id == '0' else '0'\n",
    "        our_team_size = len(ships[our_team_id])\n",
    "        their_team_size = len(ships['1'])\n",
    "        return our_team_size, their_team_size\n",
    "    \n",
    "    def getPlanetPercentages(self, frame, ship_id):\n",
    "        \"\"\"\n",
    "        \"\"\"\n",
    "        our_team_id = self.getShipOwner(frame['ships'], ship_id)\n",
    "        their_team_id = '1' if our_team_id == '0' else '0'\n",
    "        planets = frame['planets']\n",
    "        total_planet_no = len(planets)\n",
    "        owned_planets = np.sum([[1, 0] if str(planet['id']) == our_team_id else [0, 1] \\\n",
    "                               for planet in planets if planet['id'] is not None], axis = 0)\n",
    "        our_planets_perc_norm = owned_planets[0] / total_planet_no - 0.5\n",
    "        their_planets_perc_norm = owned_planets[1] / total_planet_no - 0.5\n",
    "        return  our_planets_perc_norm, their_planets_perc_norm\n",
    "        \n",
    "        \n",
    "    def getPlanetFeatures(self, frame, ship_id, max_planets):   \n",
    "        \"\"\"\n",
    "        \"\"\"\n",
    "        # Get ids\n",
    "        our_team_id = self.getShipOwner(frame['ships'], ship_id)\n",
    "        their_team_id = '1' if our_team_id == '0' else '0'\n",
    "        \n",
    "        # Get numbers of planets\n",
    "        planets = frame['planets']\n",
    "        total_planet_no = len(planets)\n",
    "        owned_planets = np.sum([[1, 0] if str(planet['id']) == our_team_id else [0, 1] \\\n",
    "                               for planet in planets if planet['id'] is not None], axis = 0)\n",
    "        our_planets = owned_planets[0]\n",
    "        their_planets = owned_planets[1]\n",
    "        neutral_planets = total_planet_no - (our_planet + their_planets)\n",
    "        \n",
    "        balance_normalized = (our_planets - their_planets) / (2 * total_planet_no)\n",
    "        neutral_fraction = neutra_planets / total_planet_no - 0.5 # Subtract 0.5 to center at 0\n",
    "        \n",
    "        return (total_planet_no - self.AVG_TOTAL_PLANETS) / (self.MAX_PLANETS - self.MIN_PLANETS), \\\n",
    "                balance_normalized, neutral_fraction"
   ]
  },
  {
   "cell_type": "code",
   "execution_count": 90,
   "metadata": {},
   "outputs": [
    {
     "data": {
      "text/plain": [
       "{'cooldown': 0,\n",
       " 'docking': {'status': 'undocked'},\n",
       " 'health': 255,\n",
       " 'id': 0,\n",
       " 'owner': 0,\n",
       " 'vel_x': 0.0,\n",
       " 'vel_y': 0.0,\n",
       " 'x': 192.0,\n",
       " 'y': 61.0}"
      ]
     },
     "execution_count": 90,
     "metadata": {},
     "output_type": "execute_result"
    }
   ],
   "source": [
    "replay_json['frames'][0]['ships']['0']['0']"
   ]
  },
  {
   "cell_type": "code",
   "execution_count": 26,
   "metadata": {},
   "outputs": [],
   "source": []
  },
  {
   "cell_type": "code",
   "execution_count": 27,
   "metadata": {},
   "outputs": [
    {
     "name": "stderr",
     "output_type": "stream",
     "text": [
      "  4%|█▍                                    | 381/10000 [00:30<12:51, 12.47it/s]D:\\Anaconda3\\lib\\site-packages\\tqdm\\_monitor.py:89: TqdmSynchronisationWarning: Set changed size during iteration (see https://github.com/tqdm/tqdm/issues/481)\n",
      "  TqdmSynchronisationWarning)\n"
     ]
    }
   ],
   "source": [
    "replay_filename_list = os.listdir(replay_dir)\n",
    "for file_name in os.listdir(replay_dir):\n",
    "    if file_name.startswith('replay'):\n",
    "        replay_filename_list.append(file_name)\n",
    "replay_buffer = CyclicalList(replay_filename_list)"
   ]
  },
  {
   "cell_type": "code",
   "execution_count": 7,
   "metadata": {},
   "outputs": [],
   "source": [
    "replay_json = getReplayContent(replay_dir + replay_buffer.getNext())"
   ]
  },
  {
   "cell_type": "code",
   "execution_count": 29,
   "metadata": {},
   "outputs": [
    {
     "data": {
      "text/plain": [
       "dict_keys(['constants', 'frames', 'height', 'map_generator', 'moves', 'num_frames', 'num_players', 'planets', 'player_names', 'poi', 'seed', 'stats', 'version', 'width'])"
      ]
     },
     "execution_count": 29,
     "metadata": {},
     "output_type": "execute_result"
    },
    {
     "name": "stderr",
     "output_type": "stream",
     "text": [
      "D:\\Anaconda3\\lib\\site-packages\\tqdm\\_monitor.py:89: TqdmSynchronisationWarning: Set changed size during iteration (see https://github.com/tqdm/tqdm/issues/481)\n",
      "  TqdmSynchronisationWarning)\n"
     ]
    }
   ],
   "source": [
    "replay_json.keys()"
   ]
  },
  {
   "cell_type": "code",
   "execution_count": 43,
   "metadata": {},
   "outputs": [
    {
     "data": {
      "text/plain": [
       "224"
      ]
     },
     "execution_count": 43,
     "metadata": {},
     "output_type": "execute_result"
    }
   ],
   "source": [
    "replay_json['height']"
   ]
  },
  {
   "cell_type": "code",
   "execution_count": 89,
   "metadata": {},
   "outputs": [
    {
     "data": {
      "text/plain": [
       "dict_keys(['events', 'planets', 'ships'])"
      ]
     },
     "execution_count": 89,
     "metadata": {},
     "output_type": "execute_result"
    }
   ],
   "source": [
    "replay_json['frames'][0].keys()"
   ]
  },
  {
   "cell_type": "code",
   "execution_count": null,
   "metadata": {},
   "outputs": [],
   "source": [
    "replay_json['num_frames']"
   ]
  },
  {
   "cell_type": "code",
   "execution_count": null,
   "metadata": {},
   "outputs": [],
   "source": [
    "replay_json['planets'][0]"
   ]
  },
  {
   "cell_type": "code",
   "execution_count": null,
   "metadata": {},
   "outputs": [],
   "source": [
    "for frame in replay_json['frames'][:1]:\n",
    "    print(frame['ships']['1']['3'])\n",
    "    print(frame['planets']['0'])"
   ]
  },
  {
   "cell_type": "code",
   "execution_count": null,
   "metadata": {},
   "outputs": [],
   "source": [
    "for frame in replay_json['frames']:\n",
    "    print(frame['events'])\n",
    "replay_json['frames'][8]['events']"
   ]
  },
  {
   "cell_type": "code",
   "execution_count": null,
   "metadata": {},
   "outputs": [],
   "source": [
    "replay_json['moves'][0]['0']"
   ]
  },
  {
   "cell_type": "code",
   "execution_count": 51,
   "metadata": {},
   "outputs": [
    {
     "name": "stdout",
     "output_type": "stream",
     "text": [
      "2\n"
     ]
    }
   ],
   "source": [
    "planets = replay_json['num_players']\n",
    "print(planets)"
   ]
  },
  {
   "cell_type": "code",
   "execution_count": 85,
   "metadata": {},
   "outputs": [
    {
     "name": "stderr",
     "output_type": "stream",
     "text": [
      "\n",
      "  0%|                                                 | 0/2000 [00:00<?, ?it/s]"
     ]
    },
    {
     "name": "stdout",
     "output_type": "stream",
     "text": [
      "12\n"
     ]
    },
    {
     "name": "stderr",
     "output_type": "stream",
     "text": [
      "\n",
      "  0%|                                         | 1/2000 [00:00<19:17,  1.73it/s]"
     ]
    },
    {
     "name": "stdout",
     "output_type": "stream",
     "text": [
      "14\n",
      "14\n",
      "14\n"
     ]
    },
    {
     "name": "stderr",
     "output_type": "stream",
     "text": [
      "\n",
      "  0%|                                         | 4/2000 [00:00<06:10,  5.38it/s]"
     ]
    },
    {
     "name": "stdout",
     "output_type": "stream",
     "text": [
      "12\n",
      "14\n",
      "14\n"
     ]
    },
    {
     "name": "stderr",
     "output_type": "stream",
     "text": [
      "\n",
      "  0%|▏                                        | 7/2000 [00:00<04:12,  7.88it/s]"
     ]
    },
    {
     "name": "stdout",
     "output_type": "stream",
     "text": [
      "14\n",
      "14\n"
     ]
    },
    {
     "name": "stderr",
     "output_type": "stream",
     "text": [
      "\n",
      "  0%|▏                                        | 9/2000 [00:01<03:47,  8.76it/s]"
     ]
    },
    {
     "name": "stdout",
     "output_type": "stream",
     "text": [
      "12\n",
      "12\n",
      "14\n",
      "14\n"
     ]
    },
    {
     "name": "stderr",
     "output_type": "stream",
     "text": [
      "\n",
      "  1%|▎                                       | 13/2000 [00:01<03:01, 10.94it/s]"
     ]
    },
    {
     "name": "stdout",
     "output_type": "stream",
     "text": [
      "14\n",
      "14\n"
     ]
    },
    {
     "name": "stderr",
     "output_type": "stream",
     "text": [
      "\n",
      "  1%|▎                                       | 15/2000 [00:01<02:50, 11.61it/s]"
     ]
    },
    {
     "name": "stdout",
     "output_type": "stream",
     "text": [
      "12\n",
      "14\n"
     ]
    },
    {
     "name": "stderr",
     "output_type": "stream",
     "text": [
      "\n",
      "  1%|▎                                       | 17/2000 [00:01<02:44, 12.06it/s]"
     ]
    },
    {
     "name": "stdout",
     "output_type": "stream",
     "text": [
      "12\n",
      "14\n"
     ]
    },
    {
     "name": "stderr",
     "output_type": "stream",
     "text": [
      "\n",
      "  1%|▍                                       | 19/2000 [00:01<02:46, 11.87it/s]"
     ]
    },
    {
     "name": "stdout",
     "output_type": "stream",
     "text": [
      "12\n",
      "12\n",
      "12\n"
     ]
    },
    {
     "name": "stderr",
     "output_type": "stream",
     "text": [
      "\n",
      "  1%|▍                                       | 22/2000 [00:01<02:36, 12.61it/s]"
     ]
    },
    {
     "name": "stdout",
     "output_type": "stream",
     "text": [
      "12\n",
      "14\n"
     ]
    },
    {
     "name": "stderr",
     "output_type": "stream",
     "text": [
      "\n",
      "  1%|▍                                       | 24/2000 [00:01<02:37, 12.58it/s]"
     ]
    },
    {
     "name": "stdout",
     "output_type": "stream",
     "text": [
      "14\n",
      "12\n",
      "12\n"
     ]
    },
    {
     "name": "stderr",
     "output_type": "stream",
     "text": [
      "\n",
      "  1%|▌                                       | 27/2000 [00:02<02:34, 12.76it/s]"
     ]
    },
    {
     "name": "stdout",
     "output_type": "stream",
     "text": [
      "12\n",
      "12\n",
      "14\n"
     ]
    },
    {
     "name": "stderr",
     "output_type": "stream",
     "text": [
      "\n",
      "  2%|▌                                       | 30/2000 [00:02<02:34, 12.78it/s]"
     ]
    },
    {
     "name": "stdout",
     "output_type": "stream",
     "text": [
      "14\n",
      "12\n"
     ]
    },
    {
     "name": "stderr",
     "output_type": "stream",
     "text": [
      "\n",
      "  2%|▋                                       | 32/2000 [00:02<02:36, 12.61it/s]"
     ]
    },
    {
     "name": "stdout",
     "output_type": "stream",
     "text": [
      "12\n",
      "12\n"
     ]
    },
    {
     "name": "stderr",
     "output_type": "stream",
     "text": [
      "\n",
      "  2%|▋                                       | 34/2000 [00:02<02:37, 12.52it/s]"
     ]
    },
    {
     "name": "stdout",
     "output_type": "stream",
     "text": [
      "12\n",
      "14\n"
     ]
    },
    {
     "name": "stderr",
     "output_type": "stream",
     "text": [
      "\n",
      "  2%|▋                                       | 36/2000 [00:02<02:37, 12.45it/s]"
     ]
    },
    {
     "name": "stdout",
     "output_type": "stream",
     "text": [
      "14\n",
      "14\n"
     ]
    },
    {
     "name": "stderr",
     "output_type": "stream",
     "text": [
      "\n",
      "  2%|▊                                       | 38/2000 [00:03<02:35, 12.63it/s]"
     ]
    },
    {
     "name": "stdout",
     "output_type": "stream",
     "text": [
      "12\n",
      "14\n"
     ]
    },
    {
     "name": "stderr",
     "output_type": "stream",
     "text": [
      "\n",
      "  2%|▊                                       | 40/2000 [00:03<02:36, 12.54it/s]"
     ]
    },
    {
     "name": "stdout",
     "output_type": "stream",
     "text": [
      "12\n",
      "12\n"
     ]
    },
    {
     "name": "stderr",
     "output_type": "stream",
     "text": [
      "\n",
      "  2%|▊                                       | 42/2000 [00:03<02:35, 12.60it/s]"
     ]
    },
    {
     "name": "stdout",
     "output_type": "stream",
     "text": [
      "12\n",
      "12\n"
     ]
    },
    {
     "name": "stderr",
     "output_type": "stream",
     "text": [
      "\n",
      "  2%|▉                                       | 44/2000 [00:03<02:39, 12.27it/s]"
     ]
    },
    {
     "name": "stdout",
     "output_type": "stream",
     "text": [
      "14\n",
      "12\n"
     ]
    },
    {
     "name": "stderr",
     "output_type": "stream",
     "text": [
      "\n"
     ]
    },
    {
     "ename": "KeyboardInterrupt",
     "evalue": "",
     "output_type": "error",
     "traceback": [
      "\u001b[1;31m---------------------------------------------------------------------------\u001b[0m",
      "\u001b[1;31mKeyboardInterrupt\u001b[0m                         Traceback (most recent call last)",
      "\u001b[1;32m<ipython-input-85-4dd3383049f9>\u001b[0m in \u001b[0;36m<module>\u001b[1;34m()\u001b[0m\n\u001b[0;32m      4\u001b[0m \u001b[1;32mfor\u001b[0m \u001b[0mi\u001b[0m \u001b[1;32min\u001b[0m \u001b[0mtqdm\u001b[0m\u001b[1;33m(\u001b[0m\u001b[0mrange\u001b[0m\u001b[1;33m(\u001b[0m\u001b[1;36m2000\u001b[0m\u001b[1;33m)\u001b[0m\u001b[1;33m)\u001b[0m\u001b[1;33m:\u001b[0m\u001b[1;31m#replay_buffer.len):\u001b[0m\u001b[1;33m\u001b[0m\u001b[0m\n\u001b[0;32m      5\u001b[0m     \u001b[0mreplay\u001b[0m \u001b[1;33m=\u001b[0m \u001b[0mreplay_buffer\u001b[0m\u001b[1;33m.\u001b[0m\u001b[0mgetNext\u001b[0m\u001b[1;33m(\u001b[0m\u001b[1;33m)\u001b[0m\u001b[1;33m\u001b[0m\u001b[0m\n\u001b[1;32m----> 6\u001b[1;33m     \u001b[0mreplay_json\u001b[0m \u001b[1;33m=\u001b[0m \u001b[0mgetReplayContent\u001b[0m\u001b[1;33m(\u001b[0m\u001b[0mreplay_dir\u001b[0m \u001b[1;33m+\u001b[0m \u001b[0mreplay_buffer\u001b[0m\u001b[1;33m.\u001b[0m\u001b[0mgetNext\u001b[0m\u001b[1;33m(\u001b[0m\u001b[1;33m)\u001b[0m\u001b[1;33m)\u001b[0m\u001b[1;33m\u001b[0m\u001b[0m\n\u001b[0m\u001b[0;32m      7\u001b[0m     \u001b[1;32mif\u001b[0m \u001b[0mreplay_json\u001b[0m\u001b[1;33m[\u001b[0m\u001b[1;34m'num_players'\u001b[0m\u001b[1;33m]\u001b[0m \u001b[1;33m>\u001b[0m \u001b[1;36m2\u001b[0m\u001b[1;33m:\u001b[0m\u001b[1;33m\u001b[0m\u001b[0m\n\u001b[0;32m      8\u001b[0m         \u001b[1;32mcontinue\u001b[0m\u001b[1;33m\u001b[0m\u001b[0m\n",
      "\u001b[1;32m<ipython-input-25-a5e502438f22>\u001b[0m in \u001b[0;36mgetReplayContent\u001b[1;34m(file_name)\u001b[0m\n\u001b[0;32m      2\u001b[0m     \u001b[1;32mwith\u001b[0m \u001b[0mopen\u001b[0m\u001b[1;33m(\u001b[0m\u001b[0mreplay_dir\u001b[0m \u001b[1;33m+\u001b[0m \u001b[0mfile_name\u001b[0m\u001b[1;33m,\u001b[0m \u001b[1;34m\"rb\"\u001b[0m\u001b[1;33m)\u001b[0m \u001b[1;32mas\u001b[0m \u001b[0mrpfile\u001b[0m\u001b[1;33m:\u001b[0m\u001b[1;33m\u001b[0m\u001b[0m\n\u001b[0;32m      3\u001b[0m         \u001b[0mdecoded_data\u001b[0m \u001b[1;33m=\u001b[0m \u001b[0mzstd\u001b[0m\u001b[1;33m.\u001b[0m\u001b[0mdecompress\u001b[0m\u001b[1;33m(\u001b[0m\u001b[1;33m(\u001b[0m\u001b[0mrpfile\u001b[0m\u001b[1;33m.\u001b[0m\u001b[0mread\u001b[0m\u001b[1;33m(\u001b[0m\u001b[1;33m)\u001b[0m\u001b[1;33m)\u001b[0m\u001b[1;33m)\u001b[0m\u001b[1;33m.\u001b[0m\u001b[0mdecode\u001b[0m\u001b[1;33m(\u001b[0m\u001b[1;34m'utf-8'\u001b[0m\u001b[1;33m)\u001b[0m\u001b[1;33m\u001b[0m\u001b[0m\n\u001b[1;32m----> 4\u001b[1;33m         \u001b[0mreplay_json\u001b[0m \u001b[1;33m=\u001b[0m \u001b[0mjson\u001b[0m\u001b[1;33m.\u001b[0m\u001b[0mloads\u001b[0m\u001b[1;33m(\u001b[0m\u001b[0mdecoded_data\u001b[0m\u001b[1;33m.\u001b[0m\u001b[0mstrip\u001b[0m\u001b[1;33m(\u001b[0m\u001b[1;33m)\u001b[0m\u001b[1;33m)\u001b[0m\u001b[1;33m\u001b[0m\u001b[0m\n\u001b[0m\u001b[0;32m      5\u001b[0m         \u001b[1;32mreturn\u001b[0m \u001b[0mreplay_json\u001b[0m\u001b[1;33m\u001b[0m\u001b[0m\n",
      "\u001b[1;32mD:\\Anaconda3\\lib\\json\\__init__.py\u001b[0m in \u001b[0;36mloads\u001b[1;34m(s, encoding, cls, object_hook, parse_float, parse_int, parse_constant, object_pairs_hook, **kw)\u001b[0m\n\u001b[0;32m    352\u001b[0m             \u001b[0mparse_int\u001b[0m \u001b[1;32mis\u001b[0m \u001b[1;32mNone\u001b[0m \u001b[1;32mand\u001b[0m \u001b[0mparse_float\u001b[0m \u001b[1;32mis\u001b[0m \u001b[1;32mNone\u001b[0m \u001b[1;32mand\u001b[0m\u001b[1;33m\u001b[0m\u001b[0m\n\u001b[0;32m    353\u001b[0m             parse_constant is None and object_pairs_hook is None and not kw):\n\u001b[1;32m--> 354\u001b[1;33m         \u001b[1;32mreturn\u001b[0m \u001b[0m_default_decoder\u001b[0m\u001b[1;33m.\u001b[0m\u001b[0mdecode\u001b[0m\u001b[1;33m(\u001b[0m\u001b[0ms\u001b[0m\u001b[1;33m)\u001b[0m\u001b[1;33m\u001b[0m\u001b[0m\n\u001b[0m\u001b[0;32m    355\u001b[0m     \u001b[1;32mif\u001b[0m \u001b[0mcls\u001b[0m \u001b[1;32mis\u001b[0m \u001b[1;32mNone\u001b[0m\u001b[1;33m:\u001b[0m\u001b[1;33m\u001b[0m\u001b[0m\n\u001b[0;32m    356\u001b[0m         \u001b[0mcls\u001b[0m \u001b[1;33m=\u001b[0m \u001b[0mJSONDecoder\u001b[0m\u001b[1;33m\u001b[0m\u001b[0m\n",
      "\u001b[1;32mD:\\Anaconda3\\lib\\json\\decoder.py\u001b[0m in \u001b[0;36mdecode\u001b[1;34m(self, s, _w)\u001b[0m\n\u001b[0;32m    337\u001b[0m \u001b[1;33m\u001b[0m\u001b[0m\n\u001b[0;32m    338\u001b[0m         \"\"\"\n\u001b[1;32m--> 339\u001b[1;33m         \u001b[0mobj\u001b[0m\u001b[1;33m,\u001b[0m \u001b[0mend\u001b[0m \u001b[1;33m=\u001b[0m \u001b[0mself\u001b[0m\u001b[1;33m.\u001b[0m\u001b[0mraw_decode\u001b[0m\u001b[1;33m(\u001b[0m\u001b[0ms\u001b[0m\u001b[1;33m,\u001b[0m \u001b[0midx\u001b[0m\u001b[1;33m=\u001b[0m\u001b[0m_w\u001b[0m\u001b[1;33m(\u001b[0m\u001b[0ms\u001b[0m\u001b[1;33m,\u001b[0m \u001b[1;36m0\u001b[0m\u001b[1;33m)\u001b[0m\u001b[1;33m.\u001b[0m\u001b[0mend\u001b[0m\u001b[1;33m(\u001b[0m\u001b[1;33m)\u001b[0m\u001b[1;33m)\u001b[0m\u001b[1;33m\u001b[0m\u001b[0m\n\u001b[0m\u001b[0;32m    340\u001b[0m         \u001b[0mend\u001b[0m \u001b[1;33m=\u001b[0m \u001b[0m_w\u001b[0m\u001b[1;33m(\u001b[0m\u001b[0ms\u001b[0m\u001b[1;33m,\u001b[0m \u001b[0mend\u001b[0m\u001b[1;33m)\u001b[0m\u001b[1;33m.\u001b[0m\u001b[0mend\u001b[0m\u001b[1;33m(\u001b[0m\u001b[1;33m)\u001b[0m\u001b[1;33m\u001b[0m\u001b[0m\n\u001b[0;32m    341\u001b[0m         \u001b[1;32mif\u001b[0m \u001b[0mend\u001b[0m \u001b[1;33m!=\u001b[0m \u001b[0mlen\u001b[0m\u001b[1;33m(\u001b[0m\u001b[0ms\u001b[0m\u001b[1;33m)\u001b[0m\u001b[1;33m:\u001b[0m\u001b[1;33m\u001b[0m\u001b[0m\n",
      "\u001b[1;32mD:\\Anaconda3\\lib\\json\\decoder.py\u001b[0m in \u001b[0;36mraw_decode\u001b[1;34m(self, s, idx)\u001b[0m\n\u001b[0;32m    353\u001b[0m         \"\"\"\n\u001b[0;32m    354\u001b[0m         \u001b[1;32mtry\u001b[0m\u001b[1;33m:\u001b[0m\u001b[1;33m\u001b[0m\u001b[0m\n\u001b[1;32m--> 355\u001b[1;33m             \u001b[0mobj\u001b[0m\u001b[1;33m,\u001b[0m \u001b[0mend\u001b[0m \u001b[1;33m=\u001b[0m \u001b[0mself\u001b[0m\u001b[1;33m.\u001b[0m\u001b[0mscan_once\u001b[0m\u001b[1;33m(\u001b[0m\u001b[0ms\u001b[0m\u001b[1;33m,\u001b[0m \u001b[0midx\u001b[0m\u001b[1;33m)\u001b[0m\u001b[1;33m\u001b[0m\u001b[0m\n\u001b[0m\u001b[0;32m    356\u001b[0m         \u001b[1;32mexcept\u001b[0m \u001b[0mStopIteration\u001b[0m \u001b[1;32mas\u001b[0m \u001b[0merr\u001b[0m\u001b[1;33m:\u001b[0m\u001b[1;33m\u001b[0m\u001b[0m\n\u001b[0;32m    357\u001b[0m             \u001b[1;32mraise\u001b[0m \u001b[0mJSONDecodeError\u001b[0m\u001b[1;33m(\u001b[0m\u001b[1;34m\"Expecting value\"\u001b[0m\u001b[1;33m,\u001b[0m \u001b[0ms\u001b[0m\u001b[1;33m,\u001b[0m \u001b[0merr\u001b[0m\u001b[1;33m.\u001b[0m\u001b[0mvalue\u001b[0m\u001b[1;33m)\u001b[0m \u001b[1;32mfrom\u001b[0m \u001b[1;32mNone\u001b[0m\u001b[1;33m\u001b[0m\u001b[0m\n",
      "\u001b[1;31mKeyboardInterrupt\u001b[0m: "
     ]
    }
   ],
   "source": [
    "max_ = -1000\n",
    "sum_ = 0\n",
    "count = 0\n",
    "for i in tqdm(range(2000)):#replay_buffer.len):\n",
    "    replay = replay_buffer.getNext()\n",
    "    replay_json = getReplayContent(replay_dir + replay_buffer.getNext())\n",
    "    if replay_json['num_players'] > 2:\n",
    "        continue\n",
    "    planets = replay_json['planets']\n",
    "    no = len(planets)\n",
    "    \n",
    "    print(no)\n",
    "    sum_ += no\n",
    "    count += 1\n",
    "    if(no > max_):\n",
    "        max_ = no\n",
    "print(max_)\n",
    "print(sum_ / count)"
   ]
  },
  {
   "cell_type": "code",
   "execution_count": null,
   "metadata": {},
   "outputs": [],
   "source": []
  }
 ],
 "metadata": {
  "kernelspec": {
   "display_name": "Python 3",
   "language": "python",
   "name": "python3"
  },
  "language_info": {
   "codemirror_mode": {
    "name": "ipython",
    "version": 3
   },
   "file_extension": ".py",
   "mimetype": "text/x-python",
   "name": "python",
   "nbconvert_exporter": "python",
   "pygments_lexer": "ipython3",
   "version": "3.6.4"
  }
 },
 "nbformat": 4,
 "nbformat_minor": 2
}
